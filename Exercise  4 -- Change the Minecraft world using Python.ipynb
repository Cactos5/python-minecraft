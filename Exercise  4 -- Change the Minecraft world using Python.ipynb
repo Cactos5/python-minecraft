{
 "metadata": {
  "name": ""
 },
 "nbformat": 3,
 "nbformat_minor": 0,
 "worksheets": [
  {
   "cells": [
    {
     "cell_type": "heading",
     "level": 1,
     "metadata": {},
     "source": [
      "Change the Minecraft world using Python"
     ]
    },
    {
     "cell_type": "heading",
     "level": 2,
     "metadata": {},
     "source": [
      "The Pyramid"
     ]
    },
    {
     "cell_type": "markdown",
     "metadata": {},
     "source": [
      "This program links Python to Minecraft and uses that link to change things in the Minecraft world. In the game, move your player to an open area, then work your way through the blocks of code below."
     ]
    },
    {
     "cell_type": "markdown",
     "metadata": {},
     "source": [
      "First, we need to bring in some libraries of code that actually do the linking. Python does this with the `import` command."
     ]
    },
    {
     "cell_type": "code",
     "collapsed": false,
     "input": [
      "import mcpi.minecraft as minecraft\n",
      "import mcpi.block as block"
     ],
     "language": "python",
     "metadata": {},
     "outputs": []
    },
    {
     "cell_type": "markdown",
     "metadata": {},
     "source": [
      "Connect to the Minecraft server, store the connection in a variable named `world`:"
     ]
    },
    {
     "cell_type": "code",
     "collapsed": false,
     "input": [
      "world  =  minecraft.Minecraft.create()"
     ],
     "language": "python",
     "metadata": {},
     "outputs": []
    },
    {
     "cell_type": "markdown",
     "metadata": {},
     "source": [
      "Next, set some variables to customize the pyramid. You might come back here later to change these values to build bigger pyramids, smaller pyramids, or ones made out of different stuff."
     ]
    },
    {
     "cell_type": "code",
     "collapsed": false,
     "input": [
      "height    =  5\n",
      "material  =  block.COBBLESTONE"
     ],
     "language": "python",
     "metadata": {},
     "outputs": []
    },
    {
     "cell_type": "markdown",
     "metadata": {},
     "source": [
      "Find out where the player is in the world. Store the current position in variables named `x`, `y`, and `z`:"
     ]
    },
    {
     "cell_type": "code",
     "collapsed": false,
     "input": [
      "[x,y,z] =  world.player.getPos()\n",
      "[x, y, z]"
     ],
     "language": "python",
     "metadata": {},
     "outputs": []
    },
    {
     "cell_type": "markdown",
     "metadata": {},
     "source": [
      "Now, get busy building the pyramid."
     ]
    },
    {
     "cell_type": "code",
     "collapsed": false,
     "input": [
      "# This variable will track the current level being created inside the loop\n",
      "level  =  1\n",
      "\n",
      "# Execute the loop, building from the bottom up\n",
      "while level <= height:\n",
      "    print level  # Print the levels as we build them\n",
      "    world.setBlocks( x - level, y + height - level, z - level,\n",
      "                     x + level, y + height - level, z + level, material )\n",
      "    level  =  level + 0.5"
     ],
     "language": "python",
     "metadata": {},
     "outputs": []
    },
    {
     "cell_type": "markdown",
     "metadata": {},
     "source": [
      "Finally, move the player to best seat in the house:"
     ]
    },
    {
     "cell_type": "code",
     "collapsed": false,
     "input": [
      "# Put the player on top of the pyramid!\n",
      "world.player.setPos( x, y + height, z )"
     ],
     "language": "python",
     "metadata": {},
     "outputs": []
    },
    {
     "cell_type": "markdown",
     "metadata": {},
     "source": [
      "If you built a pyramid from TNT, now might be a good time to equip yourself with a flint and steel to make sparks fly!"
     ]
    }
   ],
   "metadata": {}
  }
 ]
}