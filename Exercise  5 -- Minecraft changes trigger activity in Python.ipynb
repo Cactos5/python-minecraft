{
 "metadata": {
  "name": ""
 },
 "nbformat": 3,
 "nbformat_minor": 0,
 "worksheets": [
  {
   "cells": [
    {
     "cell_type": "heading",
     "level": 1,
     "metadata": {},
     "source": [
      "Trigger code in Python from Minecraft"
     ]
    },
    {
     "cell_type": "markdown",
     "metadata": {},
     "source": [
      "To find out what is happening in the Minecraft world, Python can ask via the API. The `pollBlockHits()` method will return data about each block hit with a sword since the last time it was called. **Note: You must use a sword, and you must Right-Click. This is the only action detected by this function.**"
     ]
    },
    {
     "cell_type": "markdown",
     "metadata": {},
     "source": [
      "Like in other exercises, we need to bring in some libraries of code that enable Python to speak to Minecraft."
     ]
    },
    {
     "cell_type": "code",
     "collapsed": false,
     "input": [
      "import mcpi.minecraft as minecraft\n",
      "import mcpi.block as block\n",
      "import time"
     ],
     "language": "python",
     "metadata": {},
     "outputs": []
    },
    {
     "cell_type": "markdown",
     "metadata": {},
     "source": [
      "Connect to the Minecraft server, store the connection in a variable named `world`:"
     ]
    },
    {
     "cell_type": "code",
     "collapsed": false,
     "input": [
      "world  =  minecraft.Minecraft.create()"
     ],
     "language": "python",
     "metadata": {},
     "outputs": []
    },
    {
     "cell_type": "markdown",
     "metadata": {},
     "source": [
      "Start looping forever. This is an example of a game loop, because it keeps on processsing until it is interrupted."
     ]
    },
    {
     "cell_type": "code",
     "collapsed": false,
     "input": [
      "while True:\n",
      "    hits = world.events.pollBlockHits()\n",
      "    for hit in hits:\n",
      "        print \"Have hit {h.x},{h.y},{h.z}\".format(h=hit.pos)\n",
      "        block = world.getBlockWithData(hit.pos.x, hit.pos.y, hit.pos.z)\n",
      "        block.data = (block.data + 1) & 0xf ## The & 0xf keeps the block data value below 16 (0xf in hexadecimal)\n",
      "        world.setBlock(hit.pos.x, hit.pos.y, hit.pos.z, block.id, block.data)\n",
      "        world.postToChat(\"Block data is now \" + str(block.data))\n",
      "    time.sleep(1)"
     ],
     "language": "python",
     "metadata": {},
     "outputs": []
    },
    {
     "cell_type": "markdown",
     "metadata": {},
     "source": [
      "The block of code above is more interesting with blocks that change based on their `data` value, such as wool, flowers, and wood. Wool changes color with the different data values."
     ]
    }
   ],
   "metadata": {}
  }
 ]
}