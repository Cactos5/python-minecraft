{
 "metadata": {
  "name": ""
 },
 "nbformat": 3,
 "nbformat_minor": 0,
 "worksheets": [
  {
   "cells": [
    {
     "cell_type": "heading",
     "level": 1,
     "metadata": {},
     "source": [
      "Hello World!"
     ]
    },
    {
     "cell_type": "markdown",
     "metadata": {},
     "source": [
      "The `Hello World` program is the first one to write, in every environment, in any language!\n",
      "\n",
      "The first step is to import the parts of code that let our Python program talk to Minecraft:"
     ]
    },
    {
     "cell_type": "code",
     "collapsed": false,
     "input": [
      "import mcpi.minecraft as minecraft\n",
      "import mcpi.block as block"
     ],
     "language": "python",
     "metadata": {},
     "outputs": []
    },
    {
     "cell_type": "markdown",
     "metadata": {},
     "source": [
      "Next, we create an object named `world`. This object is what we use to talk to the Minecraft server."
     ]
    },
    {
     "cell_type": "code",
     "collapsed": false,
     "input": [
      "world  =  minecraft.Minecraft.create()"
     ],
     "language": "python",
     "metadata": {},
     "outputs": []
    },
    {
     "cell_type": "markdown",
     "metadata": {},
     "source": [
      "And then we post a message to chat."
     ]
    },
    {
     "cell_type": "code",
     "collapsed": false,
     "input": [
      "world.postToChat(\"Hello Minecraft!\")"
     ],
     "language": "python",
     "metadata": {},
     "outputs": []
    }
   ],
   "metadata": {}
  }
 ]
}