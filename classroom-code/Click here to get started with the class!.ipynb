{
 "cells": [
  {
   "cell_type": "markdown",
   "metadata": {},
   "source": [
    "# Overview of Today's Class\n",
    "\n",
    "This section describes how we normally work in the CoderDojo classroom and what to expect in today's session.\n",
    "\n",
    "\n",
    "## Organization and Introductions\n",
    "\n",
    "We try to have around three students per mentor. After you first get settled into your seat, take a few moments to get to know the mentors and the other students sitting near you. Here are some example questions to break the ice:\n",
    "\n",
    "* What's your name?\n",
    "\n",
    "* Have you attended (or mentored) this class before?\n",
    "\n",
    "* What kind of experience do you have with programming?\n",
    "\n",
    "* Why did you come to this class today? What are you hoping to do or learn?\n",
    "\n",
    "Be sure to talk to the people around you. You may have something to teach them, and they may know something you want to learn. This isn't a library, so you won't get into trouble for talking. Making friends, sharing stories, and working together are all OK.\n",
    "\n",
    "\n",
    "## Learning Objectives\n",
    "\n",
    "\n",
    "Here are some of the things you will learn while participating in today's class:\n",
    "\n",
    "* How to read, write, and run code in IPython\n",
    "\n",
    "* Basic Python syntax\n",
    "\n",
    "* How to change the Minecraft world using Python\n",
    "\n",
    "* How to have the Minecraft world trigger activity in Python\n",
    "\n",
    "* Anything else you want! Be sure to talk to a mentor if there is something specific you are looking to learn.\n",
    "\n",
    "\n",
    "## Order of Events\n",
    "\n",
    "Here's how things typically happen in the CoderDojo classroom:\n",
    "\n",
    "1. Get connected. This means getting your PC onto the Wi-Fi network, and then getting connected to your [lab instance](http://coderdojotc.readthedocs.org/projects/python-minecraft/en/latest/glossary.html#term-lab-instance). If you are reading this document from inside the Jupyter interface, you are probably already done with this step.\n",
    "\n",
    "2. Work through each exercise. We have several exercises, each designed to teach you different things about the Jupyter notebook environment, Python programming, and interacting with Minecraft through Python code. The exercises are numbered, and it's a good idea to tackle them in order. Open the [exercises folder](exercises) to get started.\n",
    "\n",
    "3. Look at the other examples. See if you can understand what they do, and think about how you might want to change them. Then give it a try! Open the [examples folder](examples) to get started. In addition to the conventional examples, we also have a [folder of turtle-based examples](turtle-examples), which let you draw in the Minecraft world like you would in in a Scratch environment.\n",
    "   \n",
    "4. If you brought your own PC to class today, set a copy of our classroom environment on your own PC. This will let you continue working on this at home. [This page](http://coderdojotc.readthedocs.org/projects/python-minecraft/en/latest/other-setups/vagrant.html) will walk you through the steps.\n",
    "\n",
    "\n",
    "## Ground Rules\n",
    "\n",
    "In CoderDojo, **the one rule is \"be cool\".** Putting this into practice in the classroom, you can be cool by:\n",
    "\n",
    "* **Helping each other.** Check with other students before asking a mentor for help. \"Ask three, then me,\" is a good rule of thumb.\n",
    "\n",
    "* **Learning Python.** Today's focus is on programming, not the game of Minecraft. Remember, this is a CoderDojo, not a LAN party!\n"
   ]
  }
 ],
 "metadata": {
  "kernelspec": {
   "display_name": "Python 2",
   "language": "python",
   "name": "python2"
  },
  "language_info": {
   "codemirror_mode": {
    "name": "ipython",
    "version": 2
   },
   "file_extension": ".py",
   "mimetype": "text/x-python",
   "name": "python",
   "nbconvert_exporter": "python",
   "pygments_lexer": "ipython2",
   "version": "2.7.6"
  }
 },
 "nbformat": 4,
 "nbformat_minor": 0
}
