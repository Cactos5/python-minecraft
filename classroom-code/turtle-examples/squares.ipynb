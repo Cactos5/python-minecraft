{
 "cells": [
  {
   "cell_type": "code",
   "execution_count": null,
   "metadata": {
    "collapsed": false
   },
   "outputs": [],
   "source": [
    "#Minecraft Turtle Example\n",
    "from mcpiext import minecraftturtle\n",
    "from mcpi import minecraft, block\n",
    "\n",
    "#create connection to minecraft\n",
    "mc = minecraft.Minecraft.create()\n",
    "\n",
    "#get players position\n",
    "pos = mc.player.getPos()\n",
    "\n",
    "#create minecraft turtle\n",
    "steve = minecraftturtle.MinecraftTurtle(mc, pos)\n",
    "\n",
    "steve.speed(10)\n",
    "\n",
    "#draw a square\n",
    "steve.forward(10)\n",
    "steve.right(90)\n",
    "steve.forward(10)\n",
    "steve.right(90)\n",
    "steve.forward(10)\n",
    "steve.right(90)\n",
    "steve.forward(10)\n",
    "\n",
    "#draw a square on the floor\n",
    "steve.walk()\n",
    "steve.forward(11)\n",
    "steve.right(90)\n",
    "steve.forward(10)\n",
    "steve.right(90)\n",
    "steve.forward(10)\n",
    "steve.right(90)\n",
    "steve.forward(10)"
   ]
  }
 ],
 "metadata": {
  "kernelspec": {
   "display_name": "Python 2",
   "language": "python",
   "name": "python2"
  },
  "language_info": {
   "codemirror_mode": {
    "name": "ipython",
    "version": 2
   },
   "file_extension": ".py",
   "mimetype": "text/x-python",
   "name": "python",
   "nbconvert_exporter": "python",
   "pygments_lexer": "ipython2",
   "version": "2.7.6"
  }
 },
 "nbformat": 4,
 "nbformat_minor": 0
}
