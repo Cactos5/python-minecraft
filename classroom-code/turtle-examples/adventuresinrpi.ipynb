{
 "cells": [
  {
   "cell_type": "code",
   "execution_count": null,
   "metadata": {
    "collapsed": false
   },
   "outputs": [],
   "source": [
    "#Minecraft Turtle Example\n",
    "#Ported from the scratch turtle project in \"Adventures in Raspberry Pi\"\n",
    "from mcpiext import minecraftturtle\n",
    "from mcpi import minecraft, block\n",
    "\n",
    "#create connection to minecraft\n",
    "mc = minecraft.Minecraft.create()\n",
    "\n",
    "#get players position\n",
    "pos = mc.player.getPos()\n",
    "\n",
    "#create minecraft turtle\n",
    "steve = minecraftturtle.MinecraftTurtle(mc, pos)\n",
    "steve.speed(0)\n",
    "steve.setheading(90)\n",
    "NumberOfSides = 5\n",
    "Angle = 360 / NumberOfSides\n",
    "SideLength = 20\n",
    "WoolColour = 0\n",
    "\n",
    "for count in range(24):\n",
    "    for side in range(NumberOfSides):\n",
    "        steve.forward(SideLength)\n",
    "        steve.right(Angle)\n",
    "    steve.right(15)\n",
    "    WoolColour += 1\n",
    "    if WoolColour > 15: WoolColour = 0\n",
    "    steve.penblock(block.WOOL.id, WoolColour)\n",
    "    #go 3d\n",
    "    #steve.sety(steve.position.y + 1)"
   ]
  }
 ],
 "metadata": {
  "kernelspec": {
   "display_name": "Python 2",
   "language": "python",
   "name": "python2"
  },
  "language_info": {
   "codemirror_mode": {
    "name": "ipython",
    "version": 2
   },
   "file_extension": ".py",
   "mimetype": "text/x-python",
   "name": "python",
   "nbconvert_exporter": "python",
   "pygments_lexer": "ipython2",
   "version": "2.7.6"
  }
 },
 "nbformat": 4,
 "nbformat_minor": 0
}
