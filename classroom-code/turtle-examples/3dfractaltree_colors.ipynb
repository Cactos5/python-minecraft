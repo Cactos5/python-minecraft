{
 "cells": [
  {
   "cell_type": "code",
   "execution_count": null,
   "metadata": {
    "collapsed": false
   },
   "outputs": [],
   "source": [
    "#Minecraft Turtle Example\n",
    "from mcpiext import minecraftturtle\n",
    "from mcpi import minecraft, block\n",
    "import random\n",
    "\n",
    "def tree(branchLen,t):\n",
    "    if branchLen > 6:\n",
    "        t.penblock(block.WOOL.id, random.randint(0,15))\n",
    "        \n",
    "        #for performance\n",
    "        x,y,z = t.position.x, t.position.y, t.position.z\n",
    "        #draw branch\n",
    "        t.forward(branchLen)\n",
    "        \n",
    "        t.up(20)\n",
    "        tree(branchLen-2, t)\n",
    "        \n",
    "        t.right(90)\n",
    "        tree(branchLen-2, t)\n",
    "\n",
    "        t.left(180)\n",
    "        tree(branchLen-2, t)\n",
    "\n",
    "        t.down(40)\n",
    "        t.right(90)\n",
    "        tree(branchLen-2, t)\n",
    "\n",
    "        t.up(20)\n",
    "        \n",
    "        #go back\n",
    "        #t.backward(branchLen)\n",
    "        #for performance - rather than going back over every line\n",
    "        t.setposition(x, y, z)\n",
    "\n",
    "#create connection to minecraft\n",
    "mc = minecraft.Minecraft.create()\n",
    "\n",
    "#get players position\n",
    "pos = mc.player.getPos()\n",
    "\n",
    "#create minecraft turtle\n",
    "steve = minecraftturtle.MinecraftTurtle(mc, pos)\n",
    "\n",
    "#point up\n",
    "steve.setverticalheading(90)\n",
    "\n",
    "#set speed\n",
    "steve.speed(0)\n",
    "\n",
    "#call the tree fractal\n",
    "tree(20, steve)"
   ]
  }
 ],
 "metadata": {
  "kernelspec": {
   "display_name": "Python 2",
   "language": "python",
   "name": "python2"
  },
  "language_info": {
   "codemirror_mode": {
    "name": "ipython",
    "version": 2
   },
   "file_extension": ".py",
   "mimetype": "text/x-python",
   "name": "python",
   "nbconvert_exporter": "python",
   "pygments_lexer": "ipython2",
   "version": "2.7.6"
  }
 },
 "nbformat": 4,
 "nbformat_minor": 0
}
