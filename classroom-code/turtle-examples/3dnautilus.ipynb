{
 "cells": [
  {
   "cell_type": "code",
   "execution_count": 1,
   "metadata": {
    "collapsed": false
   },
   "outputs": [],
   "source": [
    "#Minecraft Turtle Example\n",
    "from mcpiext import minecraftturtle\n",
    "from mcpi import minecraft, block\n",
    "\n",
    "#create connection to minecraft\n",
    "mc = minecraft.Minecraft.create()\n",
    "\n",
    "#get players position\n",
    "pos = mc.player.getPos()\n",
    "\n",
    "#create minecraft turtle\n",
    "steve = minecraftturtle.MinecraftTurtle(mc, pos)\n",
    "\n",
    "steve.speed(0)\n",
    "steve.penblock(block.WOOL.id, 14)\n",
    "S = 50\n",
    "for j in range(0, 20):\n",
    "    steve.up(j*10)\n",
    "    steve.forward(S)\n",
    "    \n",
    "    steve.left(90)\n",
    "    steve.down(j*10)\n",
    "    steve.forward(S)\n",
    "\n",
    "    steve.left(90)\n",
    "    steve.down(j*10)\n",
    "    steve.forward(S)\n",
    "\n",
    "    steve.left(90)\n",
    "    steve.up(j*10)\n",
    "    steve.forward(S)\n",
    "    steve.left(90)\n",
    "\n",
    "    steve.left(10)\n",
    "    S = 0.9*S"
   ]
  }
 ],
 "metadata": {
  "kernelspec": {
   "display_name": "Python 2",
   "language": "python",
   "name": "python2"
  },
  "language_info": {
   "codemirror_mode": {
    "name": "ipython",
    "version": 2
   },
   "file_extension": ".py",
   "mimetype": "text/x-python",
   "name": "python",
   "nbconvert_exporter": "python",
   "pygments_lexer": "ipython2",
   "version": "2.7.6"
  }
 },
 "nbformat": 4,
 "nbformat_minor": 0
}
