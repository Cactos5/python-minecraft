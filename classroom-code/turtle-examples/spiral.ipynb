{
 "cells": [
  {
   "cell_type": "code",
   "execution_count": null,
   "metadata": {
    "collapsed": false
   },
   "outputs": [],
   "source": [
    "#Minecraft Turtle Example - Spiral\n",
    "from mcpiext import minecraftturtle\n",
    "from mcpi import minecraft, block\n",
    "import random\n",
    "\n",
    "#create connection to minecraft\n",
    "mc = minecraft.Minecraft.create()\n",
    "\n",
    "#get players position\n",
    "pos = mc.player.getPos()\n",
    "\n",
    "#create minecraft turtle\n",
    "steve = minecraftturtle.MinecraftTurtle(mc, pos)\n",
    "\n",
    "steve.penblock(block.WOOL.id, 1)\n",
    "steve.speed(10)\n",
    "steve.up(5)\n",
    "\n",
    "for step in range(0,1000):\n",
    "    steve.forward(2)\n",
    "    steve.right(10)"
   ]
  }
 ],
 "metadata": {
  "kernelspec": {
   "display_name": "Python 2",
   "language": "python",
   "name": "python2"
  },
  "language_info": {
   "codemirror_mode": {
    "name": "ipython",
    "version": 2
   },
   "file_extension": ".py",
   "mimetype": "text/x-python",
   "name": "python",
   "nbconvert_exporter": "python",
   "pygments_lexer": "ipython2",
   "version": "2.7.6"
  }
 },
 "nbformat": 4,
 "nbformat_minor": 0
}
