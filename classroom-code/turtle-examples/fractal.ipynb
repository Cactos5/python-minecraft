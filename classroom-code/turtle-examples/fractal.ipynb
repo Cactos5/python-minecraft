{
 "cells": [
  {
   "cell_type": "code",
   "execution_count": null,
   "metadata": {
    "collapsed": false
   },
   "outputs": [],
   "source": [
    "#Minecraft Turtle Example\n",
    "from mcpiext import minecraftturtle\n",
    "from mcpi import minecraft, block\n",
    "\n",
    "\n",
    "def f(turtle, length, depth):\n",
    "   if depth == 0:\n",
    "     turtle.forward(length)\n",
    "   else:\n",
    "     f(turtle, length/3, depth-1)\n",
    "     turtle.right(60)\n",
    "     f(turtle, length/3, depth-1)\n",
    "     turtle.left(120)\n",
    "     f(turtle, length/3, depth-1)\n",
    "     turtle.right(60)\n",
    "     f(turtle, length/3, depth-1)\n",
    "\n",
    "#create connection to minecraft\n",
    "mc = minecraft.Minecraft.create()\n",
    "\n",
    "#get players position\n",
    "pos = mc.player.getPos()\n",
    "\n",
    "#create minecraft turtle\n",
    "steve = minecraftturtle.MinecraftTurtle(mc, pos)\n",
    "\n",
    "#set speed\n",
    "steve.speed(0)\n",
    "\n",
    "#fractal\n",
    "f(steve, 500, 6)"
   ]
  }
 ],
 "metadata": {
  "kernelspec": {
   "display_name": "Python 2",
   "language": "python",
   "name": "python2"
  },
  "language_info": {
   "codemirror_mode": {
    "name": "ipython",
    "version": 2
   },
   "file_extension": ".py",
   "mimetype": "text/x-python",
   "name": "python",
   "nbconvert_exporter": "python",
   "pygments_lexer": "ipython2",
   "version": "2.7.6"
  }
 },
 "nbformat": 4,
 "nbformat_minor": 0
}
