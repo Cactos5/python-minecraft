{
 "metadata": {
  "name": "",
  "signature": "sha256:dd3e60c6cc25a7259abb63de34b4dac991b307b655e16ddf1428b5daacd1c254"
 },
 "nbformat": 3,
 "nbformat_minor": 0,
 "worksheets": [
  {
   "cells": [
    {
     "cell_type": "heading",
     "level": 1,
     "metadata": {},
     "source": [
      "IPython Introduction"
     ]
    },
    {
     "cell_type": "markdown",
     "metadata": {},
     "source": [
      "This notebook will give you some pointers on how to use IPython. All of our exercises are conducted using IPython, so spending a few minutes to get to know the tool will help you later on."
     ]
    },
    {
     "cell_type": "heading",
     "level": 2,
     "metadata": {},
     "source": [
      "Use the Help"
     ]
    },
    {
     "cell_type": "markdown",
     "metadata": {},
     "source": [
      "The very first thing to explore is the **Help** menu. Notice it above, in the notebook menubar? It is just to the right of the word **Kernel**. Click on it to reveal the options.\n",
      "\n",
      "Once you've revealed the menu, choose the option called **User Interface Tour**. IPython will take you on a short, guided tour of the user interface you are currently using. This will probably only take you a few minutes, but it is super helpful.\n",
      "\n",
      "Two other options on the **Help** menu are worth pointing out. First is a link to the complete IPython documentation, listed as **IPython Help**. Second is a quick cheat-sheet of keyboard shortcuts, listed as **Keyboard Shortcuts**. Spend a little time here, and you will be able to navigate around the tool without ever touching the mouse. Keyboard shortcuts are the way true programmers move like ninjas around their programs."
     ]
    },
    {
     "cell_type": "heading",
     "level": 2,
     "metadata": {},
     "source": [
      "Structure of a Notebook"
     ]
    },
    {
     "cell_type": "markdown",
     "metadata": {},
     "source": [
      "An IPython notebook is made up of cells. Within a notebook, one of the cells is active. The active cell has an extra box around it. To make a cell active, you can select it with your mouse, or use your arrow keys to move to the appropriate cell.\n",
      "\n",
      "Notice how as you click around from cell to cell, the cell type displayed in the notebook toolbar changes from things like **Markdown** to **Code** to different levels of headings. \n",
      "\n",
      "Some cells contain written text like this. These are called Markdown cells. Markdown is a simple way of formatting text.\n",
      "\n",
      "Other cells contain Python code. These are called Code cells, and you can tell them apart from other cells because they have words like **``In [ ]``** to the left. This indicates that the cell is *input* to IPython, and it can be run. If the cell has been run, the brackets will contain a number showing the step when the code was run. The first cell to be run will be given the number **1**, the second will be given the number **2**, and so on. If you re-run the same cell over again, its step number will be updated to show the latest number. If the code in the cell takes a while to run, the brackets will be filled with an asterisk ('** * **') to show you that it is still going.\n",
      "\n",
      "Some code cells produce output. For example, if they use the ``print`` command. If the cell produces output, it will appear below the cell. Other code cells contain expressions that return results. When an expression returns a result, IPython will show it below the code cell and it will have words like **``Out [ ]``** to the left of it.\n",
      "\n",
      "You can execute the code in the cell by pressing Ctrl-Enter (the Control or Option key, plus Enter). Alternatively, you can use **Cell->Run** from the notebook menubar.\n",
      "\n",
      "Try running the cell below."
     ]
    },
    {
     "cell_type": "code",
     "collapsed": false,
     "input": [
      "# Example of a Code cell that prints output\n",
      "print \"Hello World!\""
     ],
     "language": "python",
     "metadata": {},
     "outputs": []
    },
    {
     "cell_type": "code",
     "collapsed": false,
     "input": [
      "# Example of a Code cell that contains an expression\n",
      "5 + 6"
     ],
     "language": "python",
     "metadata": {},
     "outputs": []
    }
   ],
   "metadata": {}
  }
 ]
}