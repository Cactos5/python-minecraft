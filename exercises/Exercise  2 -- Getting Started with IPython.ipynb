{
 "metadata": {
  "name": ""
 },
 "nbformat": 3,
 "nbformat_minor": 0,
 "worksheets": [
  {
   "cells": [
    {
     "cell_type": "heading",
     "level": 1,
     "metadata": {},
     "source": [
      "IPython Introduction"
     ]
    },
    {
     "cell_type": "markdown",
     "metadata": {},
     "source": [
      "This notebook will give you some pointers on how to use IPython.\n",
      "\n",
      "An IPython notebook is made up of cells. Some cells contain written text like this. Other cells contain Python code or IPython commands. Cells that contain code have words like **``In [ ]``** to the left. This indicates that the cell is *input* to IPython. If the cell has been run, it will have a number in it. If the cell produces output, it will appear below the cell. If it has a value, it will appear with words like **``Out [ ]``** to the left of it.\n",
      "\n",
      "You can execute the code in the cell by pressing Ctrl-Enter (the Control or Option key, plus Enter). Alternatively, you can use Cell->Run from the menu.\n",
      "\n",
      "Try running the cell below."
     ]
    },
    {
     "cell_type": "code",
     "collapsed": false,
     "input": [
      "print \"Hello World!\""
     ],
     "language": "python",
     "metadata": {},
     "outputs": []
    },
    {
     "cell_type": "code",
     "collapsed": false,
     "input": [
      "5 + 6"
     ],
     "language": "python",
     "metadata": {},
     "outputs": []
    },
    {
     "cell_type": "markdown",
     "metadata": {},
     "source": [
      "Another thing you need to know is how to list files in the directory. You use the ``!ls`` command to show the files. Run the command in the cell below."
     ]
    },
    {
     "cell_type": "code",
     "collapsed": false,
     "input": [
      "!ls"
     ],
     "language": "python",
     "metadata": {},
     "outputs": []
    },
    {
     "cell_type": "markdown",
     "metadata": {},
     "source": [
      "To load one of these files into the current IPython notebook, use the ``%load`` command with one of the filenames, like this:"
     ]
    },
    {
     "cell_type": "code",
     "collapsed": false,
     "input": [
      "%load pyramid.py"
     ],
     "language": "python",
     "metadata": {},
     "outputs": []
    },
    {
     "cell_type": "code",
     "collapsed": false,
     "input": [
      "#! /usr/bin/python\n",
      "import sys\n",
      "sys.path.append( \"~/Desktop/CoderDojo\")\n",
      "import mcpi.minecraft as minecraft\n",
      "import mcpi.block as block\n",
      "\n",
      "# Connect to the Minecraft server\n",
      "world  =  minecraft.Minecraft.create()\n",
      "\n",
      "# Get the player's current position and store the coordinates\n",
      "[x,y,z] =  world.player.getPos()\n",
      "\n",
      "# Set some variables to customize your pyramid\n",
      "height    =  25\n",
      "material  =  block.TNT\n",
      "\n",
      "# This variable will track the current level being created inside the loop\n",
      "level  =  1\n",
      "\n",
      "# Execute the loop, building from the top down\n",
      "while level <= height:\n",
      "\tprint level\n",
      "\tworld.setBlocks( x - level, height - level, z - level,\n",
      "\t                 x + level, height - level, z + level, material )\n",
      "\tlevel  =  level + 0.5;\n",
      "\n",
      "# Put the player on top of the pyramid!\n",
      "world.player.setPos( x, height, z )\n"
     ],
     "language": "python",
     "metadata": {},
     "outputs": []
    },
    {
     "cell_type": "markdown",
     "metadata": {},
     "source": [
      "Once you've loaded a cell, you can run it."
     ]
    }
   ],
   "metadata": {}
  }
 ]
}