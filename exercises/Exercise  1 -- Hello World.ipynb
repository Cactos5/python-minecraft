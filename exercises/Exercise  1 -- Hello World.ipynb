{
 "metadata": {
  "name": "",
  "signature": "sha256:e59bf454a018079ff6564d06723e0b8cadd2d64df5257a92e71171d550d1f9b9"
 },
 "nbformat": 3,
 "nbformat_minor": 0,
 "worksheets": [
  {
   "cells": [
    {
     "cell_type": "heading",
     "level": 1,
     "metadata": {},
     "source": [
      "Hello World!"
     ]
    },
    {
     "cell_type": "markdown",
     "metadata": {},
     "source": [
      "The `Hello World` program is the first one you will write, in every environment, in any language!\n",
      "\n",
      "Click into the code cell below, then press the \"play\" button in the toolbar above. It will run the code."
     ]
    },
    {
     "cell_type": "code",
     "collapsed": false,
     "input": [
      "# The first step is to import the parts of code that let our Python \n",
      "# program talk to Minecraft:\n",
      "\n",
      "import mcpi.minecraft as minecraft\n",
      "import mcpi.block as block\n",
      "\n",
      "# Next, we create an object named `world`. This object is what we \n",
      "# use to talk to the Minecraft server.\n",
      "world  =  minecraft.Minecraft.create()\n",
      "\n",
      "# And then we post a message to chat\n",
      "world.postToChat(\"Hello Minecraft!\")"
     ],
     "language": "python",
     "metadata": {},
     "outputs": []
    },
    {
     "cell_type": "markdown",
     "metadata": {},
     "source": [
      "Now, switch back to your Minecraft game and open the \"chat\" by pressing the \"T\" key. Checj if you see the \"`Hello Minecraft!`\" message we sent from Python. If you don't, click into the code cell above and press the \"play\" button again. Sometimes the chat message won't appear if you weren't connected to the game when the script was run."
     ]
    },
    {
     "cell_type": "heading",
     "level": 2,
     "metadata": {},
     "source": [
      "Advanced Exercises and Questions"
     ]
    },
    {
     "cell_type": "markdown",
     "metadata": {},
     "source": [
      "1. Can you add your name to the \"Hello Minecraft\" message?\n",
      "1. Can you make it say several things, on different lines?"
     ]
    }
   ],
   "metadata": {}
  }
 ]
}