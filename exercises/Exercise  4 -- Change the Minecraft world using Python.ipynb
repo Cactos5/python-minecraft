{
 "metadata": {
  "name": "",
  "signature": "sha256:c951386f04fcb4d7d5401078f3f7c44529bc24760aefe2ab82d706c1d8dc7175"
 },
 "nbformat": 3,
 "nbformat_minor": 0,
 "worksheets": [
  {
   "cells": [
    {
     "cell_type": "heading",
     "level": 1,
     "metadata": {},
     "source": [
      "Change the Minecraft world using Python"
     ]
    },
    {
     "cell_type": "heading",
     "level": 2,
     "metadata": {},
     "source": [
      "The Pyramid"
     ]
    },
    {
     "cell_type": "markdown",
     "metadata": {},
     "source": [
      "This program links Python to Minecraft and uses that link to change things in the Minecraft world. In the game, move your player to an open area, then work your way through the blocks of code below."
     ]
    },
    {
     "cell_type": "markdown",
     "metadata": {},
     "source": [
      "First, we need to bring in some libraries of code that actually do the linking. Python does this with the `import` command."
     ]
    },
    {
     "cell_type": "code",
     "collapsed": false,
     "input": [
      "import mcpi.minecraft as minecraft\n",
      "import mcpi.block as block\n",
      "from time import sleep"
     ],
     "language": "python",
     "metadata": {},
     "outputs": []
    },
    {
     "cell_type": "markdown",
     "metadata": {},
     "source": [
      "Connect to the Minecraft server, store the connection in a variable named `world`:"
     ]
    },
    {
     "cell_type": "code",
     "collapsed": false,
     "input": [
      "world  =  minecraft.Minecraft.create()"
     ],
     "language": "python",
     "metadata": {},
     "outputs": []
    },
    {
     "cell_type": "markdown",
     "metadata": {},
     "source": [
      "Next, set some variables to customize the pyramid. You might come back here later to change these values to build bigger pyramids, smaller pyramids, or ones made out of different stuff."
     ]
    },
    {
     "cell_type": "code",
     "collapsed": false,
     "input": [
      "height    =  5\n",
      "material  =  block.COBBLESTONE"
     ],
     "language": "python",
     "metadata": {},
     "outputs": []
    },
    {
     "cell_type": "markdown",
     "metadata": {},
     "source": [
      "Find out where the player is in the world. Store the current position in variables named `x`, `y`, and `z`:"
     ]
    },
    {
     "cell_type": "code",
     "collapsed": false,
     "input": [
      "[x,y,z] =  world.player.getPos()\n",
      "[x, y, z]"
     ],
     "language": "python",
     "metadata": {},
     "outputs": []
    },
    {
     "cell_type": "markdown",
     "metadata": {},
     "source": [
      "Now, get busy building the pyramid."
     ]
    },
    {
     "cell_type": "code",
     "collapsed": false,
     "input": [
      "# This variable will track the current level being created inside the loop\n",
      "level  =  1\n",
      "\n",
      "# Execute the loop, building from the bottom up\n",
      "while level <= height:\n",
      "    print \"Level \" + str(level)  # Print the levels as we build them\n",
      "    sleep(0.5)\n",
      "    world.setBlocks( x - level, y + height - level, z - level,\n",
      "                     x + level, y + height - level, z + level, material )\n",
      "    level  =  level + 0.5"
     ],
     "language": "python",
     "metadata": {},
     "outputs": []
    },
    {
     "cell_type": "markdown",
     "metadata": {},
     "source": [
      "Finally, move the player to best seat in the house:"
     ]
    },
    {
     "cell_type": "code",
     "collapsed": false,
     "input": [
      "# Put the player on top of the pyramid!\n",
      "world.player.setPos( x, y + height, z )\n",
      "world.postToChat(\"Done building pyramid!\")"
     ],
     "language": "python",
     "metadata": {},
     "outputs": []
    },
    {
     "cell_type": "markdown",
     "metadata": {},
     "source": [
      "If you built a pyramid from TNT, now might be a good time to equip yourself with a flint and steel to make sparks fly!"
     ]
    },
    {
     "cell_type": "heading",
     "level": 2,
     "metadata": {},
     "source": [
      "Advanced Exercises and Questions"
     ]
    },
    {
     "cell_type": "markdown",
     "metadata": {},
     "source": [
      "1. What would you change to build a pyramid out of glass?\n",
      "1. How would you make a taller or shorter pyramid?\n",
      "1. Can you build a pyramid upside down? With the narrow end at the bottom and the wide end on top?\n",
      "1. Can you fill a pyramid with air? *Hint: Maybe this is a two step process...*"
     ]
    }
   ],
   "metadata": {}
  }
 ]
}