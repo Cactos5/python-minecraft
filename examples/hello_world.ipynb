{
 "metadata": {},
 "nbformat": 3,
 "nbformat_minor": 0,
 "worksheets": [
  {
   "cells": [
    {
     "cell_type": "code",
     "collapsed": false,
     "input": [
      "#!/usr/bin/python\n",
      "import mcpi.minecraft as minecraft\n",
      "import mcpi.block as block\n",
      "\n",
      "# Connect to the Minecraft server\n",
      "world  =  minecraft.Minecraft.create()\n",
      "\n",
      "world.postToChat(\"Hello Minecraft!\")"
     ],
     "language": "python",
     "metadata": {},
     "outputs": []
    }
   ],
   "metadata": {}
  }
 ]
}