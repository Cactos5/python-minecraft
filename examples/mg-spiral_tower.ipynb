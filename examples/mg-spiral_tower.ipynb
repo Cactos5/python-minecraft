{
 "metadata": {},
 "nbformat": 3,
 "nbformat_minor": 0,
 "worksheets": [
  {
   "cells": [
    {
     "cell_type": "code",
     "collapsed": false,
     "input": [
      "import mcpi.minecraft as minecraft\n",
      "import mcpi.block as block\n",
      "\n",
      "world = minecraft.Minecraft.create()\n",
      "\n",
      "[x0,y0,z0] = world.player.getPos()\n",
      "\n",
      "for "
     ],
     "language": "python",
     "metadata": {},
     "outputs": []
    }
   ],
   "metadata": {}
  }
 ]
}