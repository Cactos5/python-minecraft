{
 "metadata": {},
 "nbformat": 3,
 "nbformat_minor": 0,
 "worksheets": [
  {
   "cells": [
    {
     "cell_type": "code",
     "collapsed": false,
     "input": [
      "#!/usr/bin/env python\n",
      "\n",
      "#import the minecraft.py module from the minecraft directory\n",
      "import mcpi.minecraft as minecraft\n",
      "#import minecraft block module\n",
      "import mcpi.block as block\n",
      "#import time, so delays can be used\n",
      "\n",
      "def main():\n",
      "    mc = minecraft.Minecraft.create()\n",
      "    # write the rest of your code here...\n",
      "    mc.postToChat(\"Hello MCPIPY World!\")\n",
      "\n",
      "\n",
      "if __name__ == \"__main__\":\n",
      "    main()"
     ],
     "language": "python",
     "metadata": {},
     "outputs": []
    }
   ],
   "metadata": {}
  }
 ]
}