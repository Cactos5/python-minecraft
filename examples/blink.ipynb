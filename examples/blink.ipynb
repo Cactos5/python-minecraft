{
 "metadata": {},
 "nbformat": 3,
 "nbformat_minor": 0,
 "worksheets": [
  {
   "cells": [
    {
     "cell_type": "code",
     "collapsed": false,
     "input": [
      "#!/usr/bin/python\n",
      "# Written by Eric Johnson for CoderDojo Twin Cities - www.coderdojotc.org\n",
      "# Creates a block, near the player's initial position, that changes material each second\n",
      "import mcpi.minecraft as minecraft\n",
      "import mcpi.block as block\n",
      "import time\n",
      "\n",
      "# Connect to the Minecraft server\n",
      "world = minecraft.Minecraft.create()\n",
      "\n",
      "print \"THIS SCRIPT WILL RUN FOREVER IF YOU LET IT\"\n",
      "print \"TYPE CTRL+C TO EXIT\"\n",
      "\n",
      "# Get the player's current position and store the coordinates\n",
      "[x, y, z] = world.player.getPos()\n",
      "\n",
      "materials = [block.GRASS, block.WOOL, block.BRICK_BLOCK]\n",
      "n = 0\n",
      "while True:\n",
      "    n = (n + 1) % len(materials)\n",
      "    material = materials[n]\n",
      "    world.setBlock(x+1, y, z+1, material)\n",
      "    time.sleep(1)"
     ],
     "language": "python",
     "metadata": {},
     "outputs": []
    }
   ],
   "metadata": {}
  }
 ]
}