{
 "metadata": {},
 "nbformat": 3,
 "nbformat_minor": 0,
 "worksheets": [
  {
   "cells": [
    {
     "cell_type": "code",
     "collapsed": false,
     "input": [
      "#!/usr/bin/env python\n",
      "\n",
      "# mcpipy.com retrieved from URL below, written by zhuowei\n",
      "# http://www.minecraftforum.net/topic/1639215-danfrisk-asks-for-physical-reality-does-opening-a-cdrom-from-minecraft-count/\n",
      "\n",
      "import mcpi.minecraft as minecraft\n",
      "import subprocess\n",
      "import time\n",
      "\n",
      "mc = minecraft.Minecraft.create();\n",
      "\n",
      "while True:\n",
      "    hits = mc.events.pollBlockHits()\n",
      "    if len(hits) > 0:\n",
      "        subprocess.call([\"eject\", \"-T\"])\n",
      "    time.sleep(0.1)"
     ],
     "language": "python",
     "metadata": {},
     "outputs": []
    }
   ],
   "metadata": {}
  }
 ]
}