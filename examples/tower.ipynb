{
 "metadata": {},
 "nbformat": 3,
 "nbformat_minor": 0,
 "worksheets": [
  {
   "cells": [
    {
     "cell_type": "code",
     "collapsed": false,
     "input": [
      "#!/usr/bin/python\n",
      "import sys\n",
      "import mcpi.minecraft as minecraft\n",
      "import mcpi.block as block\n",
      "\n",
      "# Connect to the Minecraft server\n",
      "world  =  minecraft.Minecraft.create()  \n",
      "# Get the player's current position and store the coordinates\n",
      "[x,y,z] =  world.player.getPos()\n",
      "\n",
      "# Set some variables to customize your tower\n",
      "height    =  10\n",
      "material  =  block.TNT\n",
      "length = \n",
      "\n",
      "level  =  0\n",
      "keep_building  =  True\n",
      "\n",
      "for n in range (0,length):\n",
      "  for p in range(0,height):\n",
      "    world.setBlock( x+n, y+p, z, material )\n",
      "\n",
      "\n",
      "# Put the player on top of the tower\n",
      "world.player.setPos( x, height, z )"
     ],
     "language": "python",
     "metadata": {},
     "outputs": []
    }
   ],
   "metadata": {}
  }
 ]
}