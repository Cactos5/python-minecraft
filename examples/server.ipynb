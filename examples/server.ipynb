{
 "metadata": {},
 "nbformat": 3,
 "nbformat_minor": 0,
 "worksheets": [
  {
   "cells": [
    {
     "cell_type": "code",
     "collapsed": false,
     "input": [
      "# this file is intended to be edited by the user running the script.\n",
      "#\n",
      "# by editing this file you can easily change whether the scripts are run from the local machine\n",
      "# that is, on the raspberry pi itself\n",
      "# or from another computer on the network\n",
      "#\n",
      "\n",
      "# if you are running the scripts on the raspberry pi, then set address to 127.0.0.1\n",
      "# 127.0.0.1 is a special address that means connect to the same machine I'm running this on\n",
      "# so this is useful when you are runnning the script and minecraft on the same machine\n",
      "address = \"127.0.0.1\"\n",
      "# If you are running the scripts on a machine other than the raspberry pi, then put the rasberry pi's\n",
      "# ip address here\n",
      "#address = \"192.168.1.100\"\n",
      "\n",
      "# If you are developing/testing against the RaspberyJuice Bukkit server, you may find that certain APIs are not\n",
      "# implemented like GetBlockWithData.\n",
      "# By setting the flag below to true or false, a script can use conditional logic on which features to use.\n",
      "# the default is set to True meaning the server is running Minecraft PI or on a Rasperbby PI.\n",
      "\n",
      "is_pi = True\n",
      "#is_pi = False"
     ],
     "language": "python",
     "metadata": {},
     "outputs": []
    }
   ],
   "metadata": {}
  }
 ]
}