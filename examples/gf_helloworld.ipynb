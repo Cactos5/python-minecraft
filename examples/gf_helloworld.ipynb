{
 "metadata": {},
 "nbformat": 3,
 "nbformat_minor": 0,
 "worksheets": [
  {
   "cells": [
    {
     "cell_type": "code",
     "collapsed": false,
     "input": [
      "#! /usr/bin/python\n",
      "import mcpi.minecraft as minecraft\n",
      "import server\n",
      "\n",
      "\"\"\" hello world test app\n",
      "\n",
      "    @author: goldfish\"\"\"\n",
      "\n",
      "mc = minecraft.Minecraft.create( server.address )\n",
      "mc.postToChat(\"Hello, Minecraft!\")"
     ],
     "language": "python",
     "metadata": {},
     "outputs": []
    }
   ],
   "metadata": {}
  }
 ]
}