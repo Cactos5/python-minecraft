{
 "metadata": {},
 "nbformat": 3,
 "nbformat_minor": 0,
 "worksheets": [
  {
   "cells": [
    {
     "cell_type": "code",
     "collapsed": false,
     "input": [
      "#!/usr/bin/env python\n",
      "\n",
      "#import the minecraft.py module from the minecraft directory\n",
      "import mcpi.minecraft as minecraft\n",
      "#import minecraft block module\n",
      "import mcpi.block as block\n",
      "#import time, so delays can be used\n",
      "import server\n",
      "\n",
      "def main():\n",
      "    mc = minecraft.Minecraft.create(server.address)\n",
      "    # write the rest of your code here...\n",
      "    mc.postToChat(\"Erasing a 50x50 block...\")\n",
      "    mc.setBlocks(-50,-10,-50,50,10,50,block.AIR.id)\n",
      "    mc.setBlocks(-50,0,-50,50,-10,50,block.SANDSTONE.id)\n",
      "    mc.postToChat(\"Done Erasing a 50x50 block!\")\n",
      "\n",
      "\n",
      "\n",
      "if __name__ == \"__main__\":\n",
      "    main()"
     ],
     "language": "python",
     "metadata": {},
     "outputs": []
    }
   ],
   "metadata": {}
  }
 ]
}