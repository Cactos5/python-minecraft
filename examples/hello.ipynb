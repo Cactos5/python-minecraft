{
 "metadata": {},
 "nbformat": 3,
 "nbformat_minor": 0,
 "worksheets": [
  {
   "cells": [
    {
     "cell_type": "code",
     "collapsed": false,
     "input": [
      "import mcpi.minecraft as minecraft\n",
      "import mcpi.block as block\n",
      "\n",
      "world = minecraft.Minecraft.create()\n",
      "\n",
      "[x,y,z] = world.player.getPos()\n",
      "world.postToChat( \"Position is: %d %d %d\" % (x,y,z) )\n",
      "\n",
      "world.player.setPos( 0, 64, 0 )"
     ],
     "language": "python",
     "metadata": {},
     "outputs": []
    }
   ],
   "metadata": {}
  }
 ]
}