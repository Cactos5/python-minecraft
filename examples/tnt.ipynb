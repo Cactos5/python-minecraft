{
 "metadata": {},
 "nbformat": 3,
 "nbformat_minor": 0,
 "worksheets": [
  {
   "cells": [
    {
     "cell_type": "code",
     "collapsed": false,
     "input": [
      "#!/usr/bin/python\n",
      "import mcpi.minecraft\n",
      "import time\n",
      "\n",
      "mc = mcpi.minecraft.Minecraft.create();\n",
      "\n",
      "while True:\n",
      "    hits = mc.events.pollBlockHits()\n",
      "    for hit in hits:\n",
      "            block = mc.getBlockWithData(hit.pos.x, hit.pos.y, hit.pos.z);\n",
      "            block.data = (block.data + 1) & 0xf;\n",
      "            mc.setBlock(hit.pos.x, hit.pos.y, hit.pos.z, block.id, block.data)\n",
      "            mc.postToChat(\"Block data is now \" + str(block.data))\n",
      "    time.sleep(0.1)"
     ],
     "language": "python",
     "metadata": {},
     "outputs": []
    }
   ],
   "metadata": {}
  }
 ]
}