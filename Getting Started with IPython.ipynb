{
 "metadata": {
  "name": ""
 },
 "nbformat": 3,
 "nbformat_minor": 0,
 "worksheets": [
  {
   "cells": [
    {
     "cell_type": "heading",
     "level": 1,
     "metadata": {},
     "source": [
      "IPython Introduction"
     ]
    },
    {
     "cell_type": "markdown",
     "metadata": {},
     "source": [
      "This notebook will give you some pointers on how to use IPython.\n",
      "\n",
      "An IPython notebook is made up of cells. Some cells contain written text like this. Other cells contain Python code or IPython commands. Cells that contain code have words like **``In [ ]``** to the left. This indicates that the cell is *input* to IPython. If the cell has been run, it will have a number in it. If the cell produces output, it will appear below the cell. If it has a value, it will appear with words like **``Out [ ]``** to the left of it.\n",
      "\n",
      "You can execute the code in the cell by pressing Ctrl-Enter (the Control or Option key, plus Enter). Alternatively, you can use Cell->Run from the menu.\n",
      "\n",
      "Try running the cell below."
     ]
    },
    {
     "cell_type": "code",
     "collapsed": false,
     "input": [
      "print \"Hello World!\""
     ],
     "language": "python",
     "metadata": {},
     "outputs": [
      {
       "output_type": "stream",
       "stream": "stdout",
       "text": [
        "Hello World!\n"
       ]
      }
     ],
     "prompt_number": 3
    },
    {
     "cell_type": "code",
     "collapsed": false,
     "input": [
      "5 + 6"
     ],
     "language": "python",
     "metadata": {},
     "outputs": [
      {
       "metadata": {},
       "output_type": "pyout",
       "prompt_number": 4,
       "text": [
        "11"
       ]
      }
     ],
     "prompt_number": 4
    },
    {
     "cell_type": "markdown",
     "metadata": {},
     "source": [
      "Another thing you need to know is how to list files in the directory. You use the ``!ls`` command to show the files. Run the command in the cell below."
     ]
    },
    {
     "cell_type": "code",
     "collapsed": false,
     "input": [
      "!ls"
     ],
     "language": "python",
     "metadata": {},
     "outputs": [
      {
       "output_type": "stream",
       "stream": "stdout",
       "text": [
        "Getting Started with IPython .ipynb  jjinux_sierpinski_triangle.py\r\n",
        "Hello World!.ipynb\t\t     lab-server\r\n",
        "LICENSE\t\t\t\t     mcpi\r\n",
        "README.md\t\t\t     mg-spiral_tower.py\r\n",
        "SETUP_README.md\t\t\t     minecraft_letters.py\r\n",
        "astrotutor_magic.py\t\t     minescan.py\r\n",
        "blink.py\t\t\t     obsidz_teleport.py\r\n",
        "brooksc_findpos.py\t\t     pileup.py\r\n",
        "brooksc_flatmap50.py\t\t     pyramid.py\r\n",
        "brooksc_teleport_pad.py\t\t     pyramid_shell.py\r\n",
        "brooksc_template.py\t\t     server.py\r\n",
        "brooksc_tntsnake.py\t\t     sleepyoz_analogclock.py\r\n",
        "burnaron_bunkermatic.py\t\t     sleepyoz_digitalclock.py\r\n",
        "burnaron_bunkermatic2.py\t     sleepyoz_digitalclock2.py\r\n",
        "clear.py\t\t\t     sleepyoz_digitalclock3.py\r\n",
        "coderdojo.py\t\t\t     snowbound_flatmap.py\r\n",
        "danielbates_minecraft_basic.py\t     solo-server\r\n",
        "danielbates_setblockdemo.py\t     sphere.py\r\n",
        "davef21370_maze.py\t\t     sphere_hollow.py\r\n",
        "daviewales_minesweeper.py\t     stuffaboutcode_basics.py\r\n",
        "docs\t\t\t\t     stuffaboutcode_bridge.py\r\n",
        "fleap_railgen.py\t\t     stuffaboutcode_clock.py\r\n",
        "flying.py\t\t\t     stuffaboutcode_hideandseek.py\r\n",
        "gf_clearZone.py\t\t\t     tnt.py\r\n",
        "gf_drawbuilding.py\t\t     tower.py\r\n",
        "gf_helloworld.py\t\t     tower2.py\r\n",
        "hello.py\t\t\t     zhuowei_ejectcd.py\r\n",
        "hello_world.py\t\t\t     zhuowei_rainbow.py\r\n",
        "ignoreme\r\n"
       ]
      }
     ],
     "prompt_number": 5
    },
    {
     "cell_type": "markdown",
     "metadata": {},
     "source": [
      "To load one of these files into the current IPython notebook, use the ``%load`` command with one of the filenames, like this:"
     ]
    },
    {
     "cell_type": "code",
     "collapsed": false,
     "input": [
      "%load pyramid.py"
     ],
     "language": "python",
     "metadata": {},
     "outputs": [],
     "prompt_number": 2
    },
    {
     "cell_type": "code",
     "collapsed": false,
     "input": [
      "#! /usr/bin/python\n",
      "import sys\n",
      "sys.path.append( \"~/Desktop/CoderDojo\")\n",
      "import mcpi.minecraft as minecraft\n",
      "import mcpi.block as block\n",
      "\n",
      "# Connect to the Minecraft server\n",
      "world  =  minecraft.Minecraft.create()\n",
      "\n",
      "# Get the player's current position and store the coordinates\n",
      "[x,y,z] =  world.player.getPos()\n",
      "\n",
      "# Set some variables to customize your pyramid\n",
      "height    =  25\n",
      "material  =  block.TNT\n",
      "\n",
      "# This variable will track the current level being created inside the loop\n",
      "level  =  1\n",
      "\n",
      "# Execute the loop, building from the top down\n",
      "while level <= height:\n",
      "\tprint level\n",
      "\tworld.setBlocks( x - level, height - level, z - level,\n",
      "\t                 x + level, height - level, z + level, material )\n",
      "\tlevel  =  level + 0.5;\n",
      "\n",
      "# Put the player on top of the pyramid!\n",
      "world.player.setPos( x, height, z )\n"
     ],
     "language": "python",
     "metadata": {},
     "outputs": []
    },
    {
     "cell_type": "markdown",
     "metadata": {},
     "source": [
      "Once you've loaded a cell, you can run it."
     ]
    }
   ],
   "metadata": {}
  }
 ]
}